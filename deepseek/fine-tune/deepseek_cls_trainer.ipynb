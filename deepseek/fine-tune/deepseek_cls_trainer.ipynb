{
  "nbformat": 4,
  "nbformat_minor": 0,
  "metadata": {
    "colab": {
      "provenance": [],
      "machine_shape": "hm",
      "gpuType": "A100"
    },
    "kernelspec": {
      "name": "python3",
      "display_name": "Python 3"
    },
    "language_info": {
      "name": "python"
    },
    "accelerator": "GPU",
    "widgets": {
      "application/vnd.jupyter.widget-state+json": {
        "ae998393fb4d43718d8744b9b52193a1": {
          "model_module": "@jupyter-widgets/controls",
          "model_name": "HBoxModel",
          "model_module_version": "1.5.0",
          "state": {
            "_dom_classes": [],
            "_model_module": "@jupyter-widgets/controls",
            "_model_module_version": "1.5.0",
            "_model_name": "HBoxModel",
            "_view_count": null,
            "_view_module": "@jupyter-widgets/controls",
            "_view_module_version": "1.5.0",
            "_view_name": "HBoxView",
            "box_style": "",
            "children": [
              "IPY_MODEL_31f86f2ef7c04808804f5dd6a0d19f32",
              "IPY_MODEL_70783de0742e4abc9b72592602bb524d",
              "IPY_MODEL_24a374dab6cd47e5bf056a7b6604f551"
            ],
            "layout": "IPY_MODEL_b2ad8f5555ee4aa98c4ee56c65a1de44"
          }
        },
        "31f86f2ef7c04808804f5dd6a0d19f32": {
          "model_module": "@jupyter-widgets/controls",
          "model_name": "HTMLModel",
          "model_module_version": "1.5.0",
          "state": {
            "_dom_classes": [],
            "_model_module": "@jupyter-widgets/controls",
            "_model_module_version": "1.5.0",
            "_model_name": "HTMLModel",
            "_view_count": null,
            "_view_module": "@jupyter-widgets/controls",
            "_view_module_version": "1.5.0",
            "_view_name": "HTMLView",
            "description": "",
            "description_tooltip": null,
            "layout": "IPY_MODEL_3a3f8366c6164e60b776062fcf8a58cd",
            "placeholder": "​",
            "style": "IPY_MODEL_1ac3dcfbba514ef1921878b22fa1a9db",
            "value": "Map: 100%"
          }
        },
        "70783de0742e4abc9b72592602bb524d": {
          "model_module": "@jupyter-widgets/controls",
          "model_name": "FloatProgressModel",
          "model_module_version": "1.5.0",
          "state": {
            "_dom_classes": [],
            "_model_module": "@jupyter-widgets/controls",
            "_model_module_version": "1.5.0",
            "_model_name": "FloatProgressModel",
            "_view_count": null,
            "_view_module": "@jupyter-widgets/controls",
            "_view_module_version": "1.5.0",
            "_view_name": "ProgressView",
            "bar_style": "success",
            "description": "",
            "description_tooltip": null,
            "layout": "IPY_MODEL_57714d7995544179b961e3a05b9823f7",
            "max": 24458,
            "min": 0,
            "orientation": "horizontal",
            "style": "IPY_MODEL_c705bc43224e4aff95931815b8ff487f",
            "value": 24458
          }
        },
        "24a374dab6cd47e5bf056a7b6604f551": {
          "model_module": "@jupyter-widgets/controls",
          "model_name": "HTMLModel",
          "model_module_version": "1.5.0",
          "state": {
            "_dom_classes": [],
            "_model_module": "@jupyter-widgets/controls",
            "_model_module_version": "1.5.0",
            "_model_name": "HTMLModel",
            "_view_count": null,
            "_view_module": "@jupyter-widgets/controls",
            "_view_module_version": "1.5.0",
            "_view_name": "HTMLView",
            "description": "",
            "description_tooltip": null,
            "layout": "IPY_MODEL_f865073e67ea4e87b26fb8d5617ffb65",
            "placeholder": "​",
            "style": "IPY_MODEL_396dde93c68247e5a077fa19f007b9e9",
            "value": " 24458/24458 [00:03&lt;00:00, 7910.79 examples/s]"
          }
        },
        "b2ad8f5555ee4aa98c4ee56c65a1de44": {
          "model_module": "@jupyter-widgets/base",
          "model_name": "LayoutModel",
          "model_module_version": "1.2.0",
          "state": {
            "_model_module": "@jupyter-widgets/base",
            "_model_module_version": "1.2.0",
            "_model_name": "LayoutModel",
            "_view_count": null,
            "_view_module": "@jupyter-widgets/base",
            "_view_module_version": "1.2.0",
            "_view_name": "LayoutView",
            "align_content": null,
            "align_items": null,
            "align_self": null,
            "border": null,
            "bottom": null,
            "display": null,
            "flex": null,
            "flex_flow": null,
            "grid_area": null,
            "grid_auto_columns": null,
            "grid_auto_flow": null,
            "grid_auto_rows": null,
            "grid_column": null,
            "grid_gap": null,
            "grid_row": null,
            "grid_template_areas": null,
            "grid_template_columns": null,
            "grid_template_rows": null,
            "height": null,
            "justify_content": null,
            "justify_items": null,
            "left": null,
            "margin": null,
            "max_height": null,
            "max_width": null,
            "min_height": null,
            "min_width": null,
            "object_fit": null,
            "object_position": null,
            "order": null,
            "overflow": null,
            "overflow_x": null,
            "overflow_y": null,
            "padding": null,
            "right": null,
            "top": null,
            "visibility": null,
            "width": null
          }
        },
        "3a3f8366c6164e60b776062fcf8a58cd": {
          "model_module": "@jupyter-widgets/base",
          "model_name": "LayoutModel",
          "model_module_version": "1.2.0",
          "state": {
            "_model_module": "@jupyter-widgets/base",
            "_model_module_version": "1.2.0",
            "_model_name": "LayoutModel",
            "_view_count": null,
            "_view_module": "@jupyter-widgets/base",
            "_view_module_version": "1.2.0",
            "_view_name": "LayoutView",
            "align_content": null,
            "align_items": null,
            "align_self": null,
            "border": null,
            "bottom": null,
            "display": null,
            "flex": null,
            "flex_flow": null,
            "grid_area": null,
            "grid_auto_columns": null,
            "grid_auto_flow": null,
            "grid_auto_rows": null,
            "grid_column": null,
            "grid_gap": null,
            "grid_row": null,
            "grid_template_areas": null,
            "grid_template_columns": null,
            "grid_template_rows": null,
            "height": null,
            "justify_content": null,
            "justify_items": null,
            "left": null,
            "margin": null,
            "max_height": null,
            "max_width": null,
            "min_height": null,
            "min_width": null,
            "object_fit": null,
            "object_position": null,
            "order": null,
            "overflow": null,
            "overflow_x": null,
            "overflow_y": null,
            "padding": null,
            "right": null,
            "top": null,
            "visibility": null,
            "width": null
          }
        },
        "1ac3dcfbba514ef1921878b22fa1a9db": {
          "model_module": "@jupyter-widgets/controls",
          "model_name": "DescriptionStyleModel",
          "model_module_version": "1.5.0",
          "state": {
            "_model_module": "@jupyter-widgets/controls",
            "_model_module_version": "1.5.0",
            "_model_name": "DescriptionStyleModel",
            "_view_count": null,
            "_view_module": "@jupyter-widgets/base",
            "_view_module_version": "1.2.0",
            "_view_name": "StyleView",
            "description_width": ""
          }
        },
        "57714d7995544179b961e3a05b9823f7": {
          "model_module": "@jupyter-widgets/base",
          "model_name": "LayoutModel",
          "model_module_version": "1.2.0",
          "state": {
            "_model_module": "@jupyter-widgets/base",
            "_model_module_version": "1.2.0",
            "_model_name": "LayoutModel",
            "_view_count": null,
            "_view_module": "@jupyter-widgets/base",
            "_view_module_version": "1.2.0",
            "_view_name": "LayoutView",
            "align_content": null,
            "align_items": null,
            "align_self": null,
            "border": null,
            "bottom": null,
            "display": null,
            "flex": null,
            "flex_flow": null,
            "grid_area": null,
            "grid_auto_columns": null,
            "grid_auto_flow": null,
            "grid_auto_rows": null,
            "grid_column": null,
            "grid_gap": null,
            "grid_row": null,
            "grid_template_areas": null,
            "grid_template_columns": null,
            "grid_template_rows": null,
            "height": null,
            "justify_content": null,
            "justify_items": null,
            "left": null,
            "margin": null,
            "max_height": null,
            "max_width": null,
            "min_height": null,
            "min_width": null,
            "object_fit": null,
            "object_position": null,
            "order": null,
            "overflow": null,
            "overflow_x": null,
            "overflow_y": null,
            "padding": null,
            "right": null,
            "top": null,
            "visibility": null,
            "width": null
          }
        },
        "c705bc43224e4aff95931815b8ff487f": {
          "model_module": "@jupyter-widgets/controls",
          "model_name": "ProgressStyleModel",
          "model_module_version": "1.5.0",
          "state": {
            "_model_module": "@jupyter-widgets/controls",
            "_model_module_version": "1.5.0",
            "_model_name": "ProgressStyleModel",
            "_view_count": null,
            "_view_module": "@jupyter-widgets/base",
            "_view_module_version": "1.2.0",
            "_view_name": "StyleView",
            "bar_color": null,
            "description_width": ""
          }
        },
        "f865073e67ea4e87b26fb8d5617ffb65": {
          "model_module": "@jupyter-widgets/base",
          "model_name": "LayoutModel",
          "model_module_version": "1.2.0",
          "state": {
            "_model_module": "@jupyter-widgets/base",
            "_model_module_version": "1.2.0",
            "_model_name": "LayoutModel",
            "_view_count": null,
            "_view_module": "@jupyter-widgets/base",
            "_view_module_version": "1.2.0",
            "_view_name": "LayoutView",
            "align_content": null,
            "align_items": null,
            "align_self": null,
            "border": null,
            "bottom": null,
            "display": null,
            "flex": null,
            "flex_flow": null,
            "grid_area": null,
            "grid_auto_columns": null,
            "grid_auto_flow": null,
            "grid_auto_rows": null,
            "grid_column": null,
            "grid_gap": null,
            "grid_row": null,
            "grid_template_areas": null,
            "grid_template_columns": null,
            "grid_template_rows": null,
            "height": null,
            "justify_content": null,
            "justify_items": null,
            "left": null,
            "margin": null,
            "max_height": null,
            "max_width": null,
            "min_height": null,
            "min_width": null,
            "object_fit": null,
            "object_position": null,
            "order": null,
            "overflow": null,
            "overflow_x": null,
            "overflow_y": null,
            "padding": null,
            "right": null,
            "top": null,
            "visibility": null,
            "width": null
          }
        },
        "396dde93c68247e5a077fa19f007b9e9": {
          "model_module": "@jupyter-widgets/controls",
          "model_name": "DescriptionStyleModel",
          "model_module_version": "1.5.0",
          "state": {
            "_model_module": "@jupyter-widgets/controls",
            "_model_module_version": "1.5.0",
            "_model_name": "DescriptionStyleModel",
            "_view_count": null,
            "_view_module": "@jupyter-widgets/base",
            "_view_module_version": "1.2.0",
            "_view_name": "StyleView",
            "description_width": ""
          }
        },
        "042c93961c7740758887ecc0c730fc5a": {
          "model_module": "@jupyter-widgets/controls",
          "model_name": "HBoxModel",
          "model_module_version": "1.5.0",
          "state": {
            "_dom_classes": [],
            "_model_module": "@jupyter-widgets/controls",
            "_model_module_version": "1.5.0",
            "_model_name": "HBoxModel",
            "_view_count": null,
            "_view_module": "@jupyter-widgets/controls",
            "_view_module_version": "1.5.0",
            "_view_name": "HBoxView",
            "box_style": "",
            "children": [
              "IPY_MODEL_86b3ecbadf7241afa6615779b6f756ac",
              "IPY_MODEL_72c8be0602314290b4b104675e291a76",
              "IPY_MODEL_dd42d3c8aaa54721a54a88c4767db9bf"
            ],
            "layout": "IPY_MODEL_0cc85ed407584c1c86f84ce12be20809"
          }
        },
        "86b3ecbadf7241afa6615779b6f756ac": {
          "model_module": "@jupyter-widgets/controls",
          "model_name": "HTMLModel",
          "model_module_version": "1.5.0",
          "state": {
            "_dom_classes": [],
            "_model_module": "@jupyter-widgets/controls",
            "_model_module_version": "1.5.0",
            "_model_name": "HTMLModel",
            "_view_count": null,
            "_view_module": "@jupyter-widgets/controls",
            "_view_module_version": "1.5.0",
            "_view_name": "HTMLView",
            "description": "",
            "description_tooltip": null,
            "layout": "IPY_MODEL_5f32c772853841a68bb4fad0cf71af96",
            "placeholder": "​",
            "style": "IPY_MODEL_80d0287409054163a12a1f1caccaab10",
            "value": "Map: 100%"
          }
        },
        "72c8be0602314290b4b104675e291a76": {
          "model_module": "@jupyter-widgets/controls",
          "model_name": "FloatProgressModel",
          "model_module_version": "1.5.0",
          "state": {
            "_dom_classes": [],
            "_model_module": "@jupyter-widgets/controls",
            "_model_module_version": "1.5.0",
            "_model_name": "FloatProgressModel",
            "_view_count": null,
            "_view_module": "@jupyter-widgets/controls",
            "_view_module_version": "1.5.0",
            "_view_name": "ProgressView",
            "bar_style": "success",
            "description": "",
            "description_tooltip": null,
            "layout": "IPY_MODEL_27b0549e38d0422d8dbb039a11b16f93",
            "max": 6115,
            "min": 0,
            "orientation": "horizontal",
            "style": "IPY_MODEL_8630439d469941e4b12be8a384614c18",
            "value": 6115
          }
        },
        "dd42d3c8aaa54721a54a88c4767db9bf": {
          "model_module": "@jupyter-widgets/controls",
          "model_name": "HTMLModel",
          "model_module_version": "1.5.0",
          "state": {
            "_dom_classes": [],
            "_model_module": "@jupyter-widgets/controls",
            "_model_module_version": "1.5.0",
            "_model_name": "HTMLModel",
            "_view_count": null,
            "_view_module": "@jupyter-widgets/controls",
            "_view_module_version": "1.5.0",
            "_view_name": "HTMLView",
            "description": "",
            "description_tooltip": null,
            "layout": "IPY_MODEL_24ee3f29339241dba7d0445452ad12c7",
            "placeholder": "​",
            "style": "IPY_MODEL_bb32276e8fe04cd6a1d8ec8d7da0de17",
            "value": " 6115/6115 [00:00&lt;00:00, 8169.95 examples/s]"
          }
        },
        "0cc85ed407584c1c86f84ce12be20809": {
          "model_module": "@jupyter-widgets/base",
          "model_name": "LayoutModel",
          "model_module_version": "1.2.0",
          "state": {
            "_model_module": "@jupyter-widgets/base",
            "_model_module_version": "1.2.0",
            "_model_name": "LayoutModel",
            "_view_count": null,
            "_view_module": "@jupyter-widgets/base",
            "_view_module_version": "1.2.0",
            "_view_name": "LayoutView",
            "align_content": null,
            "align_items": null,
            "align_self": null,
            "border": null,
            "bottom": null,
            "display": null,
            "flex": null,
            "flex_flow": null,
            "grid_area": null,
            "grid_auto_columns": null,
            "grid_auto_flow": null,
            "grid_auto_rows": null,
            "grid_column": null,
            "grid_gap": null,
            "grid_row": null,
            "grid_template_areas": null,
            "grid_template_columns": null,
            "grid_template_rows": null,
            "height": null,
            "justify_content": null,
            "justify_items": null,
            "left": null,
            "margin": null,
            "max_height": null,
            "max_width": null,
            "min_height": null,
            "min_width": null,
            "object_fit": null,
            "object_position": null,
            "order": null,
            "overflow": null,
            "overflow_x": null,
            "overflow_y": null,
            "padding": null,
            "right": null,
            "top": null,
            "visibility": null,
            "width": null
          }
        },
        "5f32c772853841a68bb4fad0cf71af96": {
          "model_module": "@jupyter-widgets/base",
          "model_name": "LayoutModel",
          "model_module_version": "1.2.0",
          "state": {
            "_model_module": "@jupyter-widgets/base",
            "_model_module_version": "1.2.0",
            "_model_name": "LayoutModel",
            "_view_count": null,
            "_view_module": "@jupyter-widgets/base",
            "_view_module_version": "1.2.0",
            "_view_name": "LayoutView",
            "align_content": null,
            "align_items": null,
            "align_self": null,
            "border": null,
            "bottom": null,
            "display": null,
            "flex": null,
            "flex_flow": null,
            "grid_area": null,
            "grid_auto_columns": null,
            "grid_auto_flow": null,
            "grid_auto_rows": null,
            "grid_column": null,
            "grid_gap": null,
            "grid_row": null,
            "grid_template_areas": null,
            "grid_template_columns": null,
            "grid_template_rows": null,
            "height": null,
            "justify_content": null,
            "justify_items": null,
            "left": null,
            "margin": null,
            "max_height": null,
            "max_width": null,
            "min_height": null,
            "min_width": null,
            "object_fit": null,
            "object_position": null,
            "order": null,
            "overflow": null,
            "overflow_x": null,
            "overflow_y": null,
            "padding": null,
            "right": null,
            "top": null,
            "visibility": null,
            "width": null
          }
        },
        "80d0287409054163a12a1f1caccaab10": {
          "model_module": "@jupyter-widgets/controls",
          "model_name": "DescriptionStyleModel",
          "model_module_version": "1.5.0",
          "state": {
            "_model_module": "@jupyter-widgets/controls",
            "_model_module_version": "1.5.0",
            "_model_name": "DescriptionStyleModel",
            "_view_count": null,
            "_view_module": "@jupyter-widgets/base",
            "_view_module_version": "1.2.0",
            "_view_name": "StyleView",
            "description_width": ""
          }
        },
        "27b0549e38d0422d8dbb039a11b16f93": {
          "model_module": "@jupyter-widgets/base",
          "model_name": "LayoutModel",
          "model_module_version": "1.2.0",
          "state": {
            "_model_module": "@jupyter-widgets/base",
            "_model_module_version": "1.2.0",
            "_model_name": "LayoutModel",
            "_view_count": null,
            "_view_module": "@jupyter-widgets/base",
            "_view_module_version": "1.2.0",
            "_view_name": "LayoutView",
            "align_content": null,
            "align_items": null,
            "align_self": null,
            "border": null,
            "bottom": null,
            "display": null,
            "flex": null,
            "flex_flow": null,
            "grid_area": null,
            "grid_auto_columns": null,
            "grid_auto_flow": null,
            "grid_auto_rows": null,
            "grid_column": null,
            "grid_gap": null,
            "grid_row": null,
            "grid_template_areas": null,
            "grid_template_columns": null,
            "grid_template_rows": null,
            "height": null,
            "justify_content": null,
            "justify_items": null,
            "left": null,
            "margin": null,
            "max_height": null,
            "max_width": null,
            "min_height": null,
            "min_width": null,
            "object_fit": null,
            "object_position": null,
            "order": null,
            "overflow": null,
            "overflow_x": null,
            "overflow_y": null,
            "padding": null,
            "right": null,
            "top": null,
            "visibility": null,
            "width": null
          }
        },
        "8630439d469941e4b12be8a384614c18": {
          "model_module": "@jupyter-widgets/controls",
          "model_name": "ProgressStyleModel",
          "model_module_version": "1.5.0",
          "state": {
            "_model_module": "@jupyter-widgets/controls",
            "_model_module_version": "1.5.0",
            "_model_name": "ProgressStyleModel",
            "_view_count": null,
            "_view_module": "@jupyter-widgets/base",
            "_view_module_version": "1.2.0",
            "_view_name": "StyleView",
            "bar_color": null,
            "description_width": ""
          }
        },
        "24ee3f29339241dba7d0445452ad12c7": {
          "model_module": "@jupyter-widgets/base",
          "model_name": "LayoutModel",
          "model_module_version": "1.2.0",
          "state": {
            "_model_module": "@jupyter-widgets/base",
            "_model_module_version": "1.2.0",
            "_model_name": "LayoutModel",
            "_view_count": null,
            "_view_module": "@jupyter-widgets/base",
            "_view_module_version": "1.2.0",
            "_view_name": "LayoutView",
            "align_content": null,
            "align_items": null,
            "align_self": null,
            "border": null,
            "bottom": null,
            "display": null,
            "flex": null,
            "flex_flow": null,
            "grid_area": null,
            "grid_auto_columns": null,
            "grid_auto_flow": null,
            "grid_auto_rows": null,
            "grid_column": null,
            "grid_gap": null,
            "grid_row": null,
            "grid_template_areas": null,
            "grid_template_columns": null,
            "grid_template_rows": null,
            "height": null,
            "justify_content": null,
            "justify_items": null,
            "left": null,
            "margin": null,
            "max_height": null,
            "max_width": null,
            "min_height": null,
            "min_width": null,
            "object_fit": null,
            "object_position": null,
            "order": null,
            "overflow": null,
            "overflow_x": null,
            "overflow_y": null,
            "padding": null,
            "right": null,
            "top": null,
            "visibility": null,
            "width": null
          }
        },
        "bb32276e8fe04cd6a1d8ec8d7da0de17": {
          "model_module": "@jupyter-widgets/controls",
          "model_name": "DescriptionStyleModel",
          "model_module_version": "1.5.0",
          "state": {
            "_model_module": "@jupyter-widgets/controls",
            "_model_module_version": "1.5.0",
            "_model_name": "DescriptionStyleModel",
            "_view_count": null,
            "_view_module": "@jupyter-widgets/base",
            "_view_module_version": "1.2.0",
            "_view_name": "StyleView",
            "description_width": ""
          }
        }
      }
    }
  },
  "cells": [
    {
      "cell_type": "code",
      "source": [
        "#!pip install datasets\n",
        "#!pip install boto3\n",
        "#!pip install datasets\n",
        "#!pip install -U bitsandbytes\n",
        "#!pip install evaluate"
      ],
      "metadata": {
        "id": "BBZ5ox59QZqm"
      },
      "execution_count": 2,
      "outputs": []
    },
    {
      "cell_type": "code",
      "source": [
        "#########################################################\n",
        "##                PYTHON PACKAGE IMPORTS               ##\n",
        "#########################################################\n",
        "from transformers import AutoTokenizer, AutoModelForSequenceClassification, AutoModel\n",
        "from sklearn.model_selection import train_test_split\n",
        "from peft import PeftModel, PeftConfig\n",
        "from datasets import load_dataset\n",
        "import datasets\n",
        "import torch\n",
        "import pandas as pd\n",
        "import boto3\n",
        "import io\n",
        "\n",
        "from google.colab import userdata\n",
        "aws_access_key_id = userdata.get('aws_access_key_id')\n",
        "aws_secret_access_key = userdata.get('aws_secret_access_key')\n",
        "\n",
        "#!cp /content/drive/MyDrive/LoRaSequenceClassifier.py /content/\n",
        "#!cp /content/drive/MyDrive/FinancialSentimentDataLoader.py /content/\n",
        "#!cp /content/drive/MyDrive/SentimentInference.py /content/\n",
        "#!cp /content/LoRaCausalLM.py /content/drive/MyDrive/\n",
        "\n",
        "from SentimentDataLoader import SentimentDataLoader\n",
        "from LoRaSequenceClassifier import LoRaSequenceClassifier\n",
        "from SentimentInference import SentimentInference\n",
        "\n",
        "aws_access_key_id = aws_access_key_id\n",
        "aws_secret_access_key = aws_secret_access_key\n",
        "model_name = \"deepseek-ai/DeepSeek-R1-Distill-Qwen-1.5B\"\n",
        "\n",
        "#from huggingface_hub import notebook_login"
      ],
      "metadata": {
        "id": "gkx9NVTxm89w"
      },
      "execution_count": 1,
      "outputs": []
    },
    {
      "cell_type": "code",
      "source": [
        "#notebook_login()"
      ],
      "metadata": {
        "id": "1dSUHzgHq3Wu"
      },
      "execution_count": 3,
      "outputs": []
    },
    {
      "cell_type": "code",
      "source": [
        "############################################################\n",
        "#####   LOAD TRAIN/TEST DATA AS HUGGINGFACE DATASETS   #####\n",
        "############################################################\n",
        "#data_loader = FinancialSentimentDataLoader(aws_access_key_id, aws_secret_access_key)\n",
        "tokenizer = AutoTokenizer.from_pretrained(model_name)\n",
        "if tokenizer.pad_token is None:\n",
        "    tokenizer.add_special_tokens({'pad_token': '[PAD]'})\n",
        "#training_data, test_data = data_loader.get_training_and_test_data(tokenizer)\n",
        "\n",
        "loader = SentimentDataLoader()\n",
        "fiqa_data = loader.get_fiqa_data(for_training=True)\n",
        "fpb_data = loader.get_fpb_data(for_training=True)\n",
        "nwgi_data = loader.get_nwgi_data(for_training=True)\n",
        "tfns_data = loader.get_tfns_data(for_training=True)\n",
        "combined_data = pd.concat([fiqa_data, fpb_data, nwgi_data, tfns_data], ignore_index=True)\n",
        "train_data, test_data = train_test_split(combined_data, test_size=0.2, random_state=42)\n",
        "\n",
        "training_data = loader.process_dataset(train_data, tokenizer)\n",
        "test_data = loader.process_dataset(test_data, tokenizer)"
      ],
      "metadata": {
        "colab": {
          "base_uri": "https://localhost:8080/",
          "height": 81,
          "referenced_widgets": [
            "ae998393fb4d43718d8744b9b52193a1",
            "31f86f2ef7c04808804f5dd6a0d19f32",
            "70783de0742e4abc9b72592602bb524d",
            "24a374dab6cd47e5bf056a7b6604f551",
            "b2ad8f5555ee4aa98c4ee56c65a1de44",
            "3a3f8366c6164e60b776062fcf8a58cd",
            "1ac3dcfbba514ef1921878b22fa1a9db",
            "57714d7995544179b961e3a05b9823f7",
            "c705bc43224e4aff95931815b8ff487f",
            "f865073e67ea4e87b26fb8d5617ffb65",
            "396dde93c68247e5a077fa19f007b9e9",
            "042c93961c7740758887ecc0c730fc5a",
            "86b3ecbadf7241afa6615779b6f756ac",
            "72c8be0602314290b4b104675e291a76",
            "dd42d3c8aaa54721a54a88c4767db9bf",
            "0cc85ed407584c1c86f84ce12be20809",
            "5f32c772853841a68bb4fad0cf71af96",
            "80d0287409054163a12a1f1caccaab10",
            "27b0549e38d0422d8dbb039a11b16f93",
            "8630439d469941e4b12be8a384614c18",
            "24ee3f29339241dba7d0445452ad12c7",
            "bb32276e8fe04cd6a1d8ec8d7da0de17"
          ]
        },
        "id": "CsVSvQvWQZtc",
        "outputId": "d3609596-fb28-4983-9b2c-8266440c3988"
      },
      "execution_count": 2,
      "outputs": [
        {
          "output_type": "display_data",
          "data": {
            "text/plain": [
              "Map:   0%|          | 0/24458 [00:00<?, ? examples/s]"
            ],
            "application/vnd.jupyter.widget-view+json": {
              "version_major": 2,
              "version_minor": 0,
              "model_id": "ae998393fb4d43718d8744b9b52193a1"
            }
          },
          "metadata": {}
        },
        {
          "output_type": "display_data",
          "data": {
            "text/plain": [
              "Map:   0%|          | 0/6115 [00:00<?, ? examples/s]"
            ],
            "application/vnd.jupyter.widget-view+json": {
              "version_major": 2,
              "version_minor": 0,
              "model_id": "042c93961c7740758887ecc0c730fc5a"
            }
          },
          "metadata": {}
        }
      ]
    },
    {
      "cell_type": "code",
      "source": [
        "###########################################################################\n",
        "##  FINE-TUNE DEEPSEEK R1-DISTILLED VARIABLE MODEL LoRA CLASSIFICATION   ##\n",
        "###########################################################################\n",
        "classifier = LoRaSequenceClassifier(model_name=model_name, final_output_dir=\"./deepseek_cls_model\")\n",
        "classifier.fine_tune(train_dataset=training_data, eval_dataset=test_data, num_train_epochs=10, batch_size=4,)"
      ],
      "metadata": {
        "colab": {
          "base_uri": "https://localhost:8080/",
          "height": 662
        },
        "id": "9EF4reeJq8JM",
        "outputId": "266dedc7-df6e-49e0-adad-c6f5d9db21f1"
      },
      "execution_count": 3,
      "outputs": [
        {
          "output_type": "stream",
          "name": "stderr",
          "text": [
            "Sliding Window Attention is enabled but not implemented for `sdpa`; unexpected results may be encountered.\n",
            "Some weights of Qwen2ForSequenceClassification were not initialized from the model checkpoint at deepseek-ai/DeepSeek-R1-Distill-Qwen-1.5B and are newly initialized: ['score.weight']\n",
            "You should probably TRAIN this model on a down-stream task to be able to use it for predictions and inference.\n",
            "No label_names provided for model class `PeftModelForSequenceClassification`. Since `PeftModel` hides base models input arguments, if label_names is not given, label_names can't be set automatically within `Trainer`. Note that empty label_names list will be used instead.\n"
          ]
        },
        {
          "output_type": "stream",
          "name": "stdout",
          "text": [
            "Trainable parameters:\n",
            "trainable params: 4,362,752 || all params: 1,548,081,664 || trainable%: 0.2818\n"
          ]
        },
        {
          "output_type": "display_data",
          "data": {
            "text/plain": [
              "<IPython.core.display.HTML object>"
            ],
            "text/html": [
              "\n",
              "    <div>\n",
              "      \n",
              "      <progress value='7640' max='7640' style='width:300px; height:20px; vertical-align: middle;'></progress>\n",
              "      [7640/7640 2:57:37, Epoch 9/10]\n",
              "    </div>\n",
              "    <table border=\"1\" class=\"dataframe\">\n",
              "  <thead>\n",
              " <tr style=\"text-align: left;\">\n",
              "      <th>Step</th>\n",
              "      <th>Training Loss</th>\n",
              "      <th>Validation Loss</th>\n",
              "      <th>Accuracy</th>\n",
              "      <th>F1</th>\n",
              "      <th>Precision</th>\n",
              "      <th>Recall</th>\n",
              "    </tr>\n",
              "  </thead>\n",
              "  <tbody>\n",
              "    <tr>\n",
              "      <td>500</td>\n",
              "      <td>0.984900</td>\n",
              "      <td>0.668414</td>\n",
              "      <td>0.653857</td>\n",
              "      <td>0.413449</td>\n",
              "      <td>0.475058</td>\n",
              "      <td>0.365985</td>\n",
              "    </tr>\n",
              "    <tr>\n",
              "      <td>1000</td>\n",
              "      <td>0.621500</td>\n",
              "      <td>0.578735</td>\n",
              "      <td>0.702698</td>\n",
              "      <td>0.461493</td>\n",
              "      <td>0.582357</td>\n",
              "      <td>0.382175</td>\n",
              "    </tr>\n",
              "    <tr>\n",
              "      <td>1500</td>\n",
              "      <td>0.543300</td>\n",
              "      <td>0.491723</td>\n",
              "      <td>0.756282</td>\n",
              "      <td>0.580464</td>\n",
              "      <td>0.680978</td>\n",
              "      <td>0.505805</td>\n",
              "    </tr>\n",
              "    <tr>\n",
              "      <td>2000</td>\n",
              "      <td>0.439200</td>\n",
              "      <td>0.416641</td>\n",
              "      <td>0.800981</td>\n",
              "      <td>0.692961</td>\n",
              "      <td>0.713296</td>\n",
              "      <td>0.673753</td>\n",
              "    </tr>\n",
              "    <tr>\n",
              "      <td>2500</td>\n",
              "      <td>0.405200</td>\n",
              "      <td>0.399492</td>\n",
              "      <td>0.809103</td>\n",
              "      <td>0.706257</td>\n",
              "      <td>0.724987</td>\n",
              "      <td>0.688471</td>\n",
              "    </tr>\n",
              "    <tr>\n",
              "      <td>3000</td>\n",
              "      <td>0.386300</td>\n",
              "      <td>0.391095</td>\n",
              "      <td>0.815045</td>\n",
              "      <td>0.715615</td>\n",
              "      <td>0.734010</td>\n",
              "      <td>0.698119</td>\n",
              "    </tr>\n",
              "    <tr>\n",
              "      <td>3500</td>\n",
              "      <td>0.379900</td>\n",
              "      <td>0.386288</td>\n",
              "      <td>0.818043</td>\n",
              "      <td>0.719260</td>\n",
              "      <td>0.740433</td>\n",
              "      <td>0.699264</td>\n",
              "    </tr>\n",
              "    <tr>\n",
              "      <td>4000</td>\n",
              "      <td>0.371100</td>\n",
              "      <td>0.382605</td>\n",
              "      <td>0.819842</td>\n",
              "      <td>0.724927</td>\n",
              "      <td>0.738136</td>\n",
              "      <td>0.712183</td>\n",
              "    </tr>\n",
              "    <tr>\n",
              "      <td>4500</td>\n",
              "      <td>0.366500</td>\n",
              "      <td>0.380366</td>\n",
              "      <td>0.822022</td>\n",
              "      <td>0.727758</td>\n",
              "      <td>0.742429</td>\n",
              "      <td>0.713655</td>\n",
              "    </tr>\n",
              "    <tr>\n",
              "      <td>5000</td>\n",
              "      <td>0.360300</td>\n",
              "      <td>0.378425</td>\n",
              "      <td>0.822786</td>\n",
              "      <td>0.730095</td>\n",
              "      <td>0.741484</td>\n",
              "      <td>0.719052</td>\n",
              "    </tr>\n",
              "    <tr>\n",
              "      <td>5500</td>\n",
              "      <td>0.360300</td>\n",
              "      <td>0.376472</td>\n",
              "      <td>0.824148</td>\n",
              "      <td>0.732015</td>\n",
              "      <td>0.743880</td>\n",
              "      <td>0.720523</td>\n",
              "    </tr>\n",
              "    <tr>\n",
              "      <td>6000</td>\n",
              "      <td>0.357700</td>\n",
              "      <td>0.375143</td>\n",
              "      <td>0.824421</td>\n",
              "      <td>0.731247</td>\n",
              "      <td>0.746508</td>\n",
              "      <td>0.716599</td>\n",
              "    </tr>\n",
              "    <tr>\n",
              "      <td>6500</td>\n",
              "      <td>0.351700</td>\n",
              "      <td>0.374912</td>\n",
              "      <td>0.824475</td>\n",
              "      <td>0.731935</td>\n",
              "      <td>0.745464</td>\n",
              "      <td>0.718888</td>\n",
              "    </tr>\n",
              "    <tr>\n",
              "      <td>7000</td>\n",
              "      <td>0.351400</td>\n",
              "      <td>0.374111</td>\n",
              "      <td>0.824639</td>\n",
              "      <td>0.731805</td>\n",
              "      <td>0.746429</td>\n",
              "      <td>0.717743</td>\n",
              "    </tr>\n",
              "    <tr>\n",
              "      <td>7500</td>\n",
              "      <td>0.350700</td>\n",
              "      <td>0.374053</td>\n",
              "      <td>0.825566</td>\n",
              "      <td>0.733600</td>\n",
              "      <td>0.747160</td>\n",
              "      <td>0.720523</td>\n",
              "    </tr>\n",
              "  </tbody>\n",
              "</table><p>"
            ]
          },
          "metadata": {}
        }
      ]
    },
    {
      "cell_type": "code",
      "source": [
        "############################################\n",
        "##           B E N C H M A R K S          ##\n",
        "############################################"
      ],
      "metadata": {
        "id": "QNAFPrBIQimE"
      },
      "execution_count": null,
      "outputs": []
    },
    {
      "cell_type": "code",
      "source": [
        "#!pip install datasets"
      ],
      "metadata": {
        "id": "qMuRvuJyQ89n"
      },
      "execution_count": 7,
      "outputs": []
    },
    {
      "cell_type": "code",
      "source": [
        "!#git clone https://github.com/AI4Finance-Foundation/FinNLP"
      ],
      "metadata": {
        "id": "XoCgFvXFQips"
      },
      "execution_count": 9,
      "outputs": []
    },
    {
      "cell_type": "code",
      "source": [
        "#!cp -r /content/drive/MyDrive/finetuned_classification_model /content/"
      ],
      "metadata": {
        "id": "NCQyob6XZ4bD"
      },
      "execution_count": 10,
      "outputs": []
    },
    {
      "cell_type": "code",
      "source": [],
      "metadata": {
        "id": "zzMrwmuTQiua"
      },
      "execution_count": 5,
      "outputs": []
    },
    {
      "cell_type": "code",
      "source": [
        "# PEFT model directory\n",
        "peft_model_path = \"./deepseek_cls_model\"\n",
        "\n",
        "peft_config = PeftConfig.from_pretrained(peft_model_path)\n",
        "\n",
        "# Base model associated with PEFT\n",
        "base_model = AutoModelForSequenceClassification.from_pretrained(peft_config.base_model_name_or_path,\n",
        "                                                                num_labels=3)\n",
        "# Load base with adapter\n",
        "inference_model = PeftModel.from_pretrained(base_model, peft_model_path)\n",
        "\n",
        "#Load the tokenizer\n",
        "tokenizer = AutoTokenizer.from_pretrained(peft_config.base_model_name_or_path)\n",
        "\n",
        "# Step 6: Move the model to the appropriate device (GPU or CPU)\n",
        "device = torch.device(\"cuda\" if torch.cuda.is_available() else \"cpu\")\n",
        "inference_model.to(device)\n",
        "\n",
        "print(\"PEFT model loaded successfully!\")"
      ],
      "metadata": {
        "colab": {
          "base_uri": "https://localhost:8080/"
        },
        "id": "HEs35c96ZyaS",
        "outputId": "1eda8799-09a7-47e5-d7fe-d7f607b665e0"
      },
      "execution_count": 4,
      "outputs": [
        {
          "output_type": "stream",
          "name": "stderr",
          "text": [
            "Some weights of Qwen2ForSequenceClassification were not initialized from the model checkpoint at deepseek-ai/DeepSeek-R1-Distill-Qwen-1.5B and are newly initialized: ['score.weight']\n",
            "You should probably TRAIN this model on a down-stream task to be able to use it for predictions and inference.\n"
          ]
        },
        {
          "output_type": "stream",
          "name": "stdout",
          "text": [
            "PEFT model loaded successfully!\n"
          ]
        }
      ]
    },
    {
      "cell_type": "code",
      "source": [
        "# Initialize SentimentInference class\n",
        "sentiment_inference = SentimentInference(inference_model, tokenizer)"
      ],
      "metadata": {
        "id": "Flfna79gaiQt"
      },
      "execution_count": 5,
      "outputs": []
    },
    {
      "cell_type": "code",
      "source": [
        "#########################\n",
        "#          FPB          #\n",
        "#########################"
      ],
      "metadata": {
        "id": "PCgV-ESERdhO"
      },
      "execution_count": null,
      "outputs": []
    },
    {
      "cell_type": "code",
      "source": [
        "fpb_data = loader.get_fpb_data(for_training=False)\n",
        "dataframe, accuracy, f1 = sentiment_inference.process_dataframe(fpb_data)\n",
        "print(\"Processed DataFrame:\")\n",
        "print(dataframe.head())\n",
        "print(f\"\\nAccuracy: {accuracy}\")\n",
        "print(f\"F1 Score: {f1}\")"
      ],
      "metadata": {
        "colab": {
          "base_uri": "https://localhost:8080/"
        },
        "id": "9_NEM3lcRPhZ",
        "outputId": "b6eb319d-819f-4214-fdba-f84dfbff27ad"
      },
      "execution_count": 6,
      "outputs": [
        {
          "output_type": "stream",
          "name": "stdout",
          "text": [
            "Processed DataFrame:\n",
            "                                               title  sentiment  prediction\n",
            "0  L&T has also made a commitment to redeem the r...          2           2\n",
            "1  Copper , lead and nickel also dropped ... HBOS...          1           1\n",
            "2  Approximately SEK 166 million in repayments ha...          2           1\n",
            "3  The new factory working model and reorganisati...          0           0\n",
            "4  Also , Technopolis plans to build a 100 millio...          2           2\n",
            "\n",
            "Accuracy: 0.8123711340206186\n",
            "F1 Score: 0.7903549558260342\n"
          ]
        }
      ]
    },
    {
      "cell_type": "code",
      "source": [
        "#########################\n",
        "#          FIQA         #\n",
        "#########################"
      ],
      "metadata": {
        "id": "Xl8_NtiSUJd-"
      },
      "execution_count": null,
      "outputs": []
    },
    {
      "cell_type": "code",
      "source": [
        "fiqa_data = loader.get_fiqa_data(for_training=False)\n",
        "dataframe, accuracy, f1 = sentiment_inference.process_dataframe(fiqa_data)\n",
        "print(\"Processed DataFrame:\")\n",
        "print(dataframe.head())\n",
        "print(f\"\\nAccuracy: {accuracy}\")\n",
        "print(f\"F1 Score: {f1}\")"
      ],
      "metadata": {
        "colab": {
          "base_uri": "https://localhost:8080/"
        },
        "id": "jq4As7HnUTv1",
        "outputId": "0f77d9fc-8b7e-4039-cfb0-ddd29036b91e"
      },
      "execution_count": 7,
      "outputs": [
        {
          "output_type": "stream",
          "name": "stdout",
          "text": [
            "Processed DataFrame:\n",
            "                                               title  sentiment  prediction\n",
            "0  This $BBBY stock options trade would have more...          0           0\n",
            "1  $COST short finally making gains. I will take ...          1           0\n",
            "2  $KO had missed earnings expectations for the l...          0           0\n",
            "3  #Fintech provider $CAFN Cachet Financial Solut...          0           0\n",
            "4  Daily Mail owner considering Yahoo bid $yhoo ,...          0           0\n",
            "\n",
            "Accuracy: 0.64\n",
            "F1 Score: 0.5772104571097395\n"
          ]
        }
      ]
    },
    {
      "cell_type": "code",
      "source": [
        "#########################\n",
        "#         NWGI         #\n",
        "#########################"
      ],
      "metadata": {
        "id": "ktnphewNhjti"
      },
      "execution_count": 30,
      "outputs": []
    },
    {
      "cell_type": "code",
      "source": [
        "nwgi_data = loader.get_nwgi_data(for_training=False)\n",
        "dataframe, accuracy, f1 = sentiment_inference.process_dataframe(nwgi_data)\n",
        "print(\"Processed DataFrame:\")\n",
        "print(dataframe.head())\n",
        "print(f\"\\nAccuracy: {accuracy}\")\n",
        "print(f\"F1 Score: {f1}\")"
      ],
      "metadata": {
        "colab": {
          "base_uri": "https://localhost:8080/"
        },
        "id": "Z4WqVlN9eg5C",
        "outputId": "ea5d808f-3648-4c8c-a1fb-15d976f92b35"
      },
      "execution_count": 8,
      "outputs": [
        {
          "output_type": "stream",
          "name": "stdout",
          "text": [
            "Processed DataFrame:\n",
            "                                               title  sentiment  prediction\n",
            "0  In the latest trading session, Adobe Systems (...          2           2\n",
            "1  Tech stocks are down today after an antitrust ...          1           1\n",
            "2  Intel Corp is committing $20 billion to build ...          0           0\n",
            "3  High costs and supply chain disruptions are li...          1           1\n",
            "4  AMD still seems set to generate significant gr...          0           0\n",
            "\n",
            "Accuracy: 0.6651840869780083\n",
            "F1 Score: 0.6675771820332496\n"
          ]
        }
      ]
    },
    {
      "cell_type": "code",
      "source": [
        "#########################\n",
        "#          TFNS         #\n",
        "#########################"
      ],
      "metadata": {
        "id": "sciSluYmhlj4"
      },
      "execution_count": 44,
      "outputs": []
    },
    {
      "cell_type": "code",
      "source": [
        "tfns_data = loader.get_tfns_data(for_training=False)\n",
        "dataframe, accuracy, f1 = sentiment_inference.process_dataframe(tfns_data)\n",
        "print(\"Processed DataFrame:\")\n",
        "print(dataframe.head())\n",
        "print(f\"\\nAccuracy: {accuracy}\")\n",
        "print(f\"F1 Score: {f1}\")"
      ],
      "metadata": {
        "colab": {
          "base_uri": "https://localhost:8080/"
        },
        "id": "H9tp-FG8h4DU",
        "outputId": "98bf2b75-4911-406b-f8d2-0335b7f0bb47"
      },
      "execution_count": 9,
      "outputs": [
        {
          "output_type": "stream",
          "name": "stdout",
          "text": [
            "Processed DataFrame:\n",
            "                                               title  sentiment  prediction\n",
            "0  $ALLY - Ally Financial pulls outlook https://t...          1           2\n",
            "1  $DELL $HPE - Dell, HPE targets trimmed on comp...          1           1\n",
            "2  $PRTY - Moody's turns negative on Party City h...          1           1\n",
            "3                   $SAN: Deutsche Bank cuts to Hold          1           1\n",
            "4                  $SITC: Compass Point cuts to Sell          1           1\n",
            "\n",
            "Accuracy: 0.8408710217755444\n",
            "F1 Score: 0.7984305340005111\n"
          ]
        }
      ]
    },
    {
      "cell_type": "code",
      "source": [
        "# PEFT model directory\n",
        "peft_model_path = \"huggnface/FinDeepSeek-R1-Distill-Qwen-1.5B-LoRA-Sentiment\"\n",
        "\n",
        "peft_config = PeftConfig.from_pretrained(peft_model_path)\n",
        "\n",
        "# Base model associated with PEFT\n",
        "base_model = AutoModelForSequenceClassification.from_pretrained(peft_config.base_model_name_or_path,\n",
        "                                                                num_labels=3)\n",
        "# Load base with adapter\n",
        "inference_model = PeftModel.from_pretrained(base_model, peft_model_path)\n",
        "\n",
        "#Load the tokenizer\n",
        "tokenizer = AutoTokenizer.from_pretrained(peft_config.base_model_name_or_path)\n",
        "\n",
        "# Step 6: Move the model to the appropriate device (GPU or CPU)\n",
        "device = torch.device(\"cuda\" if torch.cuda.is_available() else \"cpu\")\n",
        "inference_model.to(device)\n",
        "\n",
        "print(\"Base + PEFT adapter model loaded successfully!\")"
      ],
      "metadata": {
        "colab": {
          "base_uri": "https://localhost:8080/"
        },
        "id": "IXivkUGcqjG8",
        "outputId": "dd95e44d-5d5b-4680-b15b-37aadfc3184c"
      },
      "execution_count": 22,
      "outputs": [
        {
          "output_type": "stream",
          "name": "stderr",
          "text": [
            "Some weights of Qwen2ForSequenceClassification were not initialized from the model checkpoint at deepseek-ai/DeepSeek-R1-Distill-Qwen-1.5B and are newly initialized: ['score.weight']\n",
            "You should probably TRAIN this model on a down-stream task to be able to use it for predictions and inference.\n"
          ]
        },
        {
          "output_type": "stream",
          "name": "stdout",
          "text": [
            "Base + PEFT adapter model loaded successfully!\n"
          ]
        }
      ]
    }
  ]
}